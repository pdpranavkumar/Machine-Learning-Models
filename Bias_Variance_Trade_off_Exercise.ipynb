{
  "nbformat": 4,
  "nbformat_minor": 0,
  "metadata": {
    "colab": {
      "name": "Bias Variance Trade off Exercise.ipynb",
      "provenance": [],
      "collapsed_sections": [],
      "authorship_tag": "ABX9TyNHV3Z/Jj1fjsp7HeAraerq",
      "include_colab_link": true
    },
    "kernelspec": {
      "name": "python3",
      "display_name": "Python 3"
    },
    "language_info": {
      "name": "python"
    }
  },
  "cells": [
    {
      "cell_type": "markdown",
      "metadata": {
        "id": "view-in-github",
        "colab_type": "text"
      },
      "source": [
        "<a href=\"https://colab.research.google.com/github/pdpranavkumar/lecture1/blob/master/Bias_Variance_Trade_off_Exercise.ipynb\" target=\"_parent\"><img src=\"https://colab.research.google.com/assets/colab-badge.svg\" alt=\"Open In Colab\"/></a>"
      ]
    },
    {
      "cell_type": "markdown",
      "metadata": {
        "id": "dYfdRMqVGTfn"
      },
      "source": [
        "#import the libraries"
      ]
    },
    {
      "cell_type": "code",
      "metadata": {
        "id": "W7V1XxF87W6g"
      },
      "source": [
        "import numpy as np\n",
        "import pandas as pd\n",
        "from numpy import math\n",
        " \n",
        "from sklearn.preprocessing import MinMaxScaler\n",
        "from sklearn.model_selection import train_test_split\n",
        "from sklearn.linear_model import LinearRegression\n",
        "from sklearn.metrics import r2_score\n",
        "from sklearn.metrics import mean_squared_error\n",
        "\n",
        "import matplotlib.pyplot as plt"
      ],
      "execution_count": 2,
      "outputs": []
    },
    {
      "cell_type": "code",
      "metadata": {
        "id": "BCj5X-UpHQY7"
      },
      "source": [
        "np.random.seed(123)\n",
        "MARKER_SIZE = 100\n",
        "DATA_COLOR = 'black'\n",
        "ERROR_COLOR = 'darkred'\n",
        "POLYNOMIAL_FIT_COLORS = ['orange','royalblue','darkgreen']\n",
        "LEGEND_FONTSIZE = 14\n",
        "TITLE_FONTSIZE = 12\n",
        "N_OBSERVATION = 10\n",
        "NOISE_STD = 1\n",
        "\n",
        "x = 2 * (np.random.rand(N_OBSERVATION) - .5)\n",
        "x_grid = np.linspace(-1, 1, 100 )\n",
        "\n",
        "def f(x):\n",
        "  \"\"\"\"base function\"\"\"\n",
        "  return np.sin(x * np.pi)\n",
        "\n",
        "def sample_fx_data(shape, noise_std=NOISE_STD):\n",
        "   return f(x) + np.random.randn(*shape) * noise_std\n",
        "\n",
        "def plot_fx_data(y=None):\n",
        "  \"\"\"plot f(x) and noisy samples\"\"\"\n",
        "  y = y if y is not None else sample_fx_data(x.shape)\n",
        "  fig, axs = plt.subplots(figsize=(6,6))\n",
        "  plt.plot(x_grid, f(x_grid), color=DATA_COLOR, label='f(x)') \n",
        "  plt.scatter(x, y, s=MARKER_SIZE,edgecolors=DATA_COLOR, facecolors='none', label='y')\n",
        "\n",
        "\n",
        "\n",
        "\n",
        "\n"
      ],
      "execution_count": 4,
      "outputs": []
    },
    {
      "cell_type": "markdown",
      "metadata": {
        "id": "vD70vWRTLyxN"
      },
      "source": [
        "#plot the data"
      ]
    },
    {
      "cell_type": "code",
      "metadata": {
        "colab": {
          "base_uri": "https://localhost:8080/",
          "height": 412
        },
        "id": "3CviZxR_LgPN",
        "outputId": "477bd828-74ab-44a3-c2cc-adacd0a45c2a"
      },
      "source": [
        "y = sample_fx_data(x.shape)\n",
        "plot_fx_data(y)\n",
        "plt.legend(fontsize=14)\n",
        "plt.title(f'$f(x) = sin(\\pi x)$ and some observations,$y$', fontsize=16)\n",
        "plt.xlim([-1,1])\n",
        "plt.ylim([-2, 2])"
      ],
      "execution_count": 6,
      "outputs": [
        {
          "output_type": "execute_result",
          "data": {
            "text/plain": [
              "(-2.0, 2.0)"
            ]
          },
          "metadata": {},
          "execution_count": 6
        },
        {
          "output_type": "display_data",
          "data": {
            "image/png": "[encoded data removed]",
            "text/plain": [
              "<Figure size 432x432 with 1 Axes>"
            ]
          },
          "metadata": {
            "needs_background": "light"
          }
        }
      ]
    },
    {
      "cell_type": "code",
      "metadata": {
        "id": "LBcV1wIuLv2Y"
      },
      "source": [
        ""
      ],
      "execution_count": null,
      "outputs": []
    }
  ]
}