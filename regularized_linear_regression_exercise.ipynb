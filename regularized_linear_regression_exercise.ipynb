{
  "nbformat": 4,
  "nbformat_minor": 0,
  "metadata": {
    "colab": {
      "name": "regularized linear regression exercise.ipynb",
      "provenance": [],
      "collapsed_sections": [],
      "authorship_tag": "ABX9TyMvwpsZn6JnMeGX+CQat6Qc",
      "include_colab_link": true
    },
    "kernelspec": {
      "name": "python3",
      "display_name": "Python 3"
    },
    "language_info": {
      "name": "python"
    }
  },
  "cells": [
    {
      "cell_type": "markdown",
      "metadata": {
        "id": "view-in-github",
        "colab_type": "text"
      },
      "source": [
        "<a href=\"https://colab.research.google.com/github/pdpranavkumar/lecture1/blob/master/regularized_linear_regression_exercise.ipynb\" target=\"_parent\"><img src=\"https://colab.research.google.com/assets/colab-badge.svg\" alt=\"Open In Colab\"/></a>"
      ]
    },
    {
      "cell_type": "code",
      "metadata": {
        "id": "gglrsejwtpYR"
      },
      "source": [
        ""
      ],
      "execution_count": 1,
      "outputs": []
    },
    {
      "cell_type": "code",
      "metadata": {
        "id": "tTfXckBV6OJO"
      },
      "source": [
        "import numpy as np\n",
        "import pandas as pd\n",
        "import matplotlib.pyplot as plt\n",
        "from sklearn.datasets import load_boston\n",
        "from sklearn.linear_model import Ridge, RidgeCV\n",
        "from sklearn.linear_model import Lasso, LassoCV\n",
        "from sklearn.linear_model import LinearRegression\n",
        "from sklearn.preprocessing import StandardScaler\n",
        "from sklearn.model_selection import train_test_split"
      ],
      "execution_count": 2,
      "outputs": []
    },
    {
      "cell_type": "code",
      "metadata": {
        "id": "X0rhNLhpy6FQ"
      },
      "source": [
        ""
      ],
      "execution_count": 2,
      "outputs": []
    },
    {
      "cell_type": "code",
      "metadata": {
        "colab": {
          "base_uri": "https://localhost:8080/"
        },
        "id": "2VtHy5i8bvct",
        "outputId": "f7ad6012-67ba-44fa-f980-8932dca03dda"
      },
      "source": [
        "boston = load_boston()\n",
        "boston.data.shape"
      ],
      "execution_count": 3,
      "outputs": [
        {
          "output_type": "execute_result",
          "data": {
            "text/plain": [
              "(506, 13)"
            ]
          },
          "metadata": {},
          "execution_count": 3
        }
      ]
    },
    {
      "cell_type": "markdown",
      "metadata": {
        "id": "qGrWXAZB5GyP"
      },
      "source": [
        "# extract tinput and response variables\n",
        "# meaning of each varible is in link above\n"
      ]
    },
    {
      "cell_type": "code",
      "metadata": {
        "id": "7l6i_T1_zL5f",
        "colab": {
          "base_uri": "https://localhost:8080/",
          "height": 202
        },
        "outputId": "1e796fd3-b1f2-4e70-d10b-7185934247ba"
      },
      "source": [
        "feature_num = 7 \n",
        "boston = load_boston()\n",
        "x = boston.data[:, :feature_num]\n",
        "y = boston.target\n",
        "features = boston .feature_names[:feature_num]\n",
        "pd.DataFrame(x, columns = features).head()"
      ],
      "execution_count": 4,
      "outputs": [
        {
          "output_type": "execute_result",
          "data": {
            "text/html": [
              "<div>\n",
              "<style scoped>\n",
              "    .dataframe tbody tr th:only-of-type {\n",
              "        vertical-align: middle;\n",
              "    }\n",
              "\n",
              "    .dataframe tbody tr th {\n",
              "        vertical-align: top;\n",
              "    }\n",
              "\n",
              "    .dataframe thead th {\n",
              "        text-align: right;\n",
              "    }\n",
              "</style>\n",
              "<table border=\"1\" class=\"dataframe\">\n",
              "  <thead>\n",
              "    <tr style=\"text-align: right;\">\n",
              "      <th></th>\n",
              "      <th>CRIM</th>\n",
              "      <th>ZN</th>\n",
              "      <th>INDUS</th>\n",
              "      <th>CHAS</th>\n",
              "      <th>NOX</th>\n",
              "      <th>RM</th>\n",
              "      <th>AGE</th>\n",
              "    </tr>\n",
              "  </thead>\n",
              "  <tbody>\n",
              "    <tr>\n",
              "      <th>0</th>\n",
              "      <td>0.00632</td>\n",
              "      <td>18.0</td>\n",
              "      <td>2.31</td>\n",
              "      <td>0.0</td>\n",
              "      <td>0.538</td>\n",
              "      <td>6.575</td>\n",
              "      <td>65.2</td>\n",
              "    </tr>\n",
              "    <tr>\n",
              "      <th>1</th>\n",
              "      <td>0.02731</td>\n",
              "      <td>0.0</td>\n",
              "      <td>7.07</td>\n",
              "      <td>0.0</td>\n",
              "      <td>0.469</td>\n",
              "      <td>6.421</td>\n",
              "      <td>78.9</td>\n",
              "    </tr>\n",
              "    <tr>\n",
              "      <th>2</th>\n",
              "      <td>0.02729</td>\n",
              "      <td>0.0</td>\n",
              "      <td>7.07</td>\n",
              "      <td>0.0</td>\n",
              "      <td>0.469</td>\n",
              "      <td>7.185</td>\n",
              "      <td>61.1</td>\n",
              "    </tr>\n",
              "    <tr>\n",
              "      <th>3</th>\n",
              "      <td>0.03237</td>\n",
              "      <td>0.0</td>\n",
              "      <td>2.18</td>\n",
              "      <td>0.0</td>\n",
              "      <td>0.458</td>\n",
              "      <td>6.998</td>\n",
              "      <td>45.8</td>\n",
              "    </tr>\n",
              "    <tr>\n",
              "      <th>4</th>\n",
              "      <td>0.06905</td>\n",
              "      <td>0.0</td>\n",
              "      <td>2.18</td>\n",
              "      <td>0.0</td>\n",
              "      <td>0.458</td>\n",
              "      <td>7.147</td>\n",
              "      <td>54.2</td>\n",
              "    </tr>\n",
              "  </tbody>\n",
              "</table>\n",
              "</div>"
            ],
            "text/plain": [
              "      CRIM    ZN  INDUS  CHAS    NOX     RM   AGE\n",
              "0  0.00632  18.0   2.31   0.0  0.538  6.575  65.2\n",
              "1  0.02731   0.0   7.07   0.0  0.469  6.421  78.9\n",
              "2  0.02729   0.0   7.07   0.0  0.469  7.185  61.1\n",
              "3  0.03237   0.0   2.18   0.0  0.458  6.998  45.8\n",
              "4  0.06905   0.0   2.18   0.0  0.458  7.147  54.2"
            ]
          },
          "metadata": {},
          "execution_count": 4
        }
      ]
    },
    {
      "cell_type": "markdown",
      "metadata": {
        "id": "78xDDUSV6t9-"
      },
      "source": [
        "*   CRIM - per capita crime rate by town\n",
        "*   ZN - proportion of residential land zoned for lots over 25,000 sq.ft\n",
        "*   INDUS - proportion of non-retail business acres per town.\n",
        "*   CHAS - Charles River dummy variable (1 if tract bounds river; 0 otherwise)\n",
        "*   NOX - nitric oxides concentration (parts per 10 million)\n",
        "*  RM - average number of rooms per dwelling\n",
        "*   AGE - proportion of owner-occupied units built prior to 1940\n",
        "\n",
        "\n",
        "\n",
        "\n",
        "\n",
        "\n",
        "\n"
      ]
    },
    {
      "cell_type": "code",
      "metadata": {
        "colab": {
          "base_uri": "https://localhost:8080/"
        },
        "id": "RbbbgemH6Txa",
        "outputId": "af9ed1c0-adaa-462f-a5b3-4a8737d77731"
      },
      "source": [
        "y[0:5]"
      ],
      "execution_count": 5,
      "outputs": [
        {
          "output_type": "execute_result",
          "data": {
            "text/plain": [
              "array([24. , 21.6, 34.7, 33.4, 36.2])"
            ]
          },
          "metadata": {},
          "execution_count": 5
        }
      ]
    },
    {
      "cell_type": "markdown",
      "metadata": {
        "id": "hW1MCUpu8Cwu"
      },
      "source": [
        "#split into training and testing sets and standardize them"
      ]
    },
    {
      "cell_type": "code",
      "metadata": {
        "id": "IrJaYJb58BVA"
      },
      "source": [
        "x_train,x_test,y_train, y_test = train_test_split(x,y,random_state =1)\n",
        "std = StandardScaler()\n",
        "x_train_std = std.fit_transform(x_train)\n",
        "x_test_std = std.transform(x_test)\n"
      ],
      "execution_count": 6,
      "outputs": []
    },
    {
      "cell_type": "markdown",
      "metadata": {
        "id": "6GmXiS2r9DsP"
      },
      "source": [
        "#loop through different penalty score(alpha) and obtain the estimated coefficient(weights)\n"
      ]
    },
    {
      "cell_type": "code",
      "metadata": {
        "colab": {
          "base_uri": "https://localhost:8080/"
        },
        "id": "yCdG9ErP9kt-",
        "outputId": "65af7008-80bd-4196-b813-b555ef05f7c9"
      },
      "source": [
        "alphas = 10 ** np.arange(1, 5)\n",
        "print('different alpha values:', alphas)\n"
      ],
      "execution_count": 7,
      "outputs": [
        {
          "output_type": "stream",
          "name": "stdout",
          "text": [
            "different alpha values: [   10   100  1000 10000]\n"
          ]
        }
      ]
    },
    {
      "cell_type": "markdown",
      "metadata": {
        "id": "PipowSlU_G-5"
      },
      "source": [
        "# stores the weights of each feature"
      ]
    },
    {
      "cell_type": "code",
      "metadata": {
        "id": "h8_DYDkI-1Jf"
      },
      "source": [
        "ridge_weight = []\n",
        "for alpha in alphas:    \n",
        "    ridge = Ridge(alpha = alpha, fit_intercept = True)\n",
        "    ridge.fit(x_train_std, y_train)\n",
        "    ridge_weight.append(ridge.coef_)"
      ],
      "execution_count": 8,
      "outputs": []
    },
    {
      "cell_type": "code",
      "metadata": {
        "colab": {
          "base_uri": "https://localhost:8080/"
        },
        "id": "nzHpYc1u_J--",
        "outputId": "f386a002-16d3-4655-f4b4-6734e9cecb72"
      },
      "source": [
        "alphas"
      ],
      "execution_count": 9,
      "outputs": [
        {
          "output_type": "execute_result",
          "data": {
            "text/plain": [
              "array([   10,   100,  1000, 10000])"
            ]
          },
          "metadata": {},
          "execution_count": 9
        }
      ]
    },
    {
      "cell_type": "code",
      "metadata": {
        "colab": {
          "base_uri": "https://localhost:8080/"
        },
        "id": "0MwrblhCzWBd",
        "outputId": "19a7745d-04ce-4feb-b7e9-d9d2b3d869df"
      },
      "source": [
        "ridge_weight"
      ],
      "execution_count": 10,
      "outputs": [
        {
          "output_type": "execute_result",
          "data": {
            "text/plain": [
              "[array([-1.49246448,  0.37088936, -0.70836731,  1.08568161, -0.80970633,\n",
              "         4.4075122 , -0.80450999]),\n",
              " array([-1.30486468,  0.5170331 , -0.85951603,  0.96594376, -0.81006847,\n",
              "         3.54696735, -0.74796938]),\n",
              " array([-0.6486645 ,  0.4993468 , -0.67576213,  0.39800779, -0.61503278,\n",
              "         1.33852138, -0.56022566]),\n",
              " array([-0.11842591,  0.11262874, -0.1443168 ,  0.05431575, -0.13553009,\n",
              "         0.20563081, -0.12574102])]"
            ]
          },
          "metadata": {},
          "execution_count": 10
        }
      ]
    },
    {
      "cell_type": "code",
      "metadata": {
        "id": "2SsKL2kBzfAk"
      },
      "source": [
        ""
      ],
      "execution_count": null,
      "outputs": []
    }
  ]
}