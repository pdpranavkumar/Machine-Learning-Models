{
  "nbformat": 4,
  "nbformat_minor": 0,
  "metadata": {
    "colab": {
      "name": "Linear Regression-Implementation Practice.ipynb",
      "provenance": [],
      "collapsed_sections": [],
      "authorship_tag": "ABX9TyMi5qhImLEy/jU+SdwRWEvC",
      "include_colab_link": true
    },
    "kernelspec": {
      "name": "python3",
      "display_name": "Python 3"
    },
    "language_info": {
      "name": "python"
    }
  },
  "cells": [
    {
      "cell_type": "markdown",
      "metadata": {
        "id": "view-in-github",
        "colab_type": "text"
      },
      "source": [
        "<a href=\"https://colab.research.google.com/github/pdpranavkumar/lecture1/blob/master/Linear_Regression_Implementation_Practice.ipynb\" target=\"_parent\"><img src=\"https://colab.research.google.com/assets/colab-badge.svg\" alt=\"Open In Colab\"/></a>"
      ]
    },
    {
      "cell_type": "markdown",
      "metadata": {
        "id": "S3O1-V1EEWgm"
      },
      "source": [
        "To predict the profit made by a startup on the basis of expenses incurred and the state where they operate"
      ]
    },
    {
      "cell_type": "markdown",
      "metadata": {
        "id": "axPSa6vxEyxU"
      },
      "source": [
        "# importing the libraries"
      ]
    },
    {
      "cell_type": "code",
      "metadata": {
        "id": "jZ-LP3A_ESfD"
      },
      "source": [
        "\n",
        "import numpy as np\n",
        "import pandas as pd\n",
        "from numpy import math\n",
        "\n",
        "from sklearn.preprocessing import MinMaxScaler\n",
        "from sklearn.model_selection import train_test_split\n",
        "from sklearn.linear_model import LinearRegression\n",
        "from sklearn.metrics import r2_score\n",
        "from sklearn.metrics import mean_squared_error\n",
        "\n",
        "import matplotlib.pyplot as plt"
      ],
      "execution_count": 5,
      "outputs": []
    },
    {
      "cell_type": "code",
      "metadata": {
        "colab": {
          "base_uri": "https://localhost:8080/"
        },
        "id": "JO6doQMVEliJ",
        "outputId": "08b2c246-5668-49cb-9634-94b6651d8491"
      },
      "source": [
        "from google.colab import drive\n",
        "drive.mount('/content/drive')"
      ],
      "execution_count": 4,
      "outputs": [
        {
          "output_type": "stream",
          "name": "stdout",
          "text": [
            "Mounted at /content/drive\n"
          ]
        }
      ]
    },
    {
      "cell_type": "markdown",
      "metadata": {
        "id": "V4vqODukE5Ud"
      },
      "source": [
        "# importing the dataset"
      ]
    },
    {
      "cell_type": "code",
      "metadata": {
        "id": "yF405jVjEmKy"
      },
      "source": [
        "\n",
        "dataset = pd.read_csv('/content/drive/MyDrive/Almabetter/Module 3 Linear Regression-Implementation/50_Startups.csv')"
      ],
      "execution_count": 6,
      "outputs": []
    },
    {
      "cell_type": "code",
      "metadata": {
        "colab": {
          "base_uri": "https://localhost:8080/"
        },
        "id": "2vYRKh3IFciG",
        "outputId": "829652a6-ea35-425c-bd4c-7c4fd57af66e"
      },
      "source": [
        "len(dataset)"
      ],
      "execution_count": 7,
      "outputs": [
        {
          "output_type": "execute_result",
          "data": {
            "text/plain": [
              "50"
            ]
          },
          "metadata": {},
          "execution_count": 7
        }
      ]
    },
    {
      "cell_type": "code",
      "metadata": {
        "colab": {
          "base_uri": "https://localhost:8080/"
        },
        "id": "gdPbstetFfYK",
        "outputId": "e3585089-6edb-4d77-b89f-858e36b16cfb"
      },
      "source": [
        "dataset.shape"
      ],
      "execution_count": 8,
      "outputs": [
        {
          "output_type": "execute_result",
          "data": {
            "text/plain": [
              "(50, 5)"
            ]
          },
          "metadata": {},
          "execution_count": 8
        }
      ]
    },
    {
      "cell_type": "code",
      "metadata": {
        "colab": {
          "base_uri": "https://localhost:8080/",
          "height": 294
        },
        "id": "HzaWBrHjFhrB",
        "outputId": "1a2795b9-6198-4a67-af43-1753791123da"
      },
      "source": [
        "plt.scatter(dataset['Marketing Spend'], dataset['Profit'], alpha=0.5)\n",
        "plt.title('Scatter plot of Profit with Marketing Spend')\n",
        "plt.xlabel('Marketing Spend')\n",
        "plt.ylabel('Profit')\n",
        "plt.show()"
      ],
      "execution_count": 9,
      "outputs": [
        {
          "output_type": "display_data",
          "data": {
            "image/png": "[encoded data removed]",
            "text/plain": [
              "<Figure size 432x288 with 1 Axes>"
            ]
          },
          "metadata": {
            "needs_background": "light"
          }
        }
      ]
    },
    {
      "cell_type": "code",
      "metadata": {
        "colab": {
          "base_uri": "https://localhost:8080/",
          "height": 294
        },
        "id": "xX073xC5FkFq",
        "outputId": "d307b10c-7ab4-4172-e86b-2ae96783737c"
      },
      "source": [
        "plt.scatter(dataset['R&D Spend'], dataset['Profit'], alpha=0.5)\n",
        "plt.title('Scatter plot of Profit with R&D Spend')\n",
        "plt.xlabel('R&D Spend')\n",
        "plt.ylabel('Profit')\n",
        "plt.show()\n"
      ],
      "execution_count": 10,
      "outputs": [
        {
          "output_type": "display_data",
          "data": {
            "image/png": "[encoded data removed]",
            "text/plain": [
              "<Figure size 432x288 with 1 Axes>"
            ]
          },
          "metadata": {
            "needs_background": "light"
          }
        }
      ]
    },
    {
      "cell_type": "code",
      "metadata": {
        "colab": {
          "base_uri": "https://localhost:8080/",
          "height": 294
        },
        "id": "7hJa9_PlFqPr",
        "outputId": "c1fda2be-39ea-43ed-b95d-d0e64119eac7"
      },
      "source": [
        "plt.scatter(dataset['Administration'], dataset['Profit'], alpha=0.5)\n",
        "plt.title('Scatter plot of Profit with Administration')\n",
        "plt.xlabel('Administration')\n",
        "plt.ylabel('Profit')\n",
        "plt.show()"
      ],
      "execution_count": 11,
      "outputs": [
        {
          "output_type": "display_data",
          "data": {
            "image/png": "[encoded data removed]",
            "text/plain": [
              "<Figure size 432x288 with 1 Axes>"
            ]
          },
          "metadata": {
            "needs_background": "light"
          }
        }
      ]
    },
    {
      "cell_type": "markdown",
      "metadata": {
        "id": "0IKCKg0SFxz8"
      },
      "source": [
        "# Create the figure object "
      ]
    },
    {
      "cell_type": "code",
      "metadata": {
        "colab": {
          "base_uri": "https://localhost:8080/",
          "height": 391
        },
        "id": "jttpLzMpFsnZ",
        "outputId": "78249c52-f959-48e0-c574-d5e50aa51ab5"
      },
      "source": [
        "\n",
        "ax = dataset.groupby(['State'])['Profit'].mean().plot.bar(\n",
        "    figsize = (10,5),\n",
        "    fontsize = 14\n",
        ")\n",
        "\n"
      ],
      "execution_count": 12,
      "outputs": [
        {
          "output_type": "display_data",
          "data": {
            "image/png": "[encoded data removed]",
            "text/plain": [
              "<Figure size 720x360 with 1 Axes>"
            ]
          },
          "metadata": {
            "needs_background": "light"
          }
        }
      ]
    },
    {
      "cell_type": "markdown",
      "metadata": {
        "id": "9iMVNEvRF5Bs"
      },
      "source": [
        "# set the title"
      ]
    },
    {
      "cell_type": "code",
      "metadata": {
        "colab": {
          "base_uri": "https://localhost:8080/"
        },
        "id": "umndMkIrF2kZ",
        "outputId": "46d3fd2d-ffa8-4bee-e419-86bca3656fa4"
      },
      "source": [
        "\n",
        "ax.set_title(\"Average profit for different states where the startups operate\", fontsize = 20)\n",
        "\n"
      ],
      "execution_count": 13,
      "outputs": [
        {
          "output_type": "execute_result",
          "data": {
            "text/plain": [
              "Text(0.5, 1.0, 'Average profit for different states where the startups operate')"
            ]
          },
          "metadata": {},
          "execution_count": 13
        }
      ]
    },
    {
      "cell_type": "markdown",
      "metadata": {
        "id": "pUqP6uGaGAwS"
      },
      "source": [
        "# Set x and y-labels\n"
      ]
    },
    {
      "cell_type": "code",
      "metadata": {
        "colab": {
          "base_uri": "https://localhost:8080/"
        },
        "id": "Jeo_NpMRGADL",
        "outputId": "cab3c762-e51c-47e9-89d7-103f7bd78e46"
      },
      "source": [
        "ax.set_xlabel(\"State\", fontsize = 15)\n",
        "ax.set_ylabel(\"Profit\", fontsize = 15)"
      ],
      "execution_count": 14,
      "outputs": [
        {
          "output_type": "execute_result",
          "data": {
            "text/plain": [
              "Text(3.200000000000003, 0.5, 'Profit')"
            ]
          },
          "metadata": {},
          "execution_count": 14
        }
      ]
    },
    {
      "cell_type": "code",
      "metadata": {
        "colab": {
          "base_uri": "https://localhost:8080/"
        },
        "id": "UMvpsZwqGDax",
        "outputId": "0a65ca1f-6d97-4606-8db8-4eaa399cc139"
      },
      "source": [
        "dataset.State.value_counts()"
      ],
      "execution_count": 15,
      "outputs": [
        {
          "output_type": "execute_result",
          "data": {
            "text/plain": [
              "California    17\n",
              "New York      17\n",
              "Florida       16\n",
              "Name: State, dtype: int64"
            ]
          },
          "metadata": {},
          "execution_count": 15
        }
      ]
    },
    {
      "cell_type": "markdown",
      "metadata": {
        "id": "IXKTelW7GOfl"
      },
      "source": [
        "# create dummy variables for the catgeorical variable State"
      ]
    },
    {
      "cell_type": "code",
      "metadata": {
        "id": "PIxtHmLUGGd5"
      },
      "source": [
        "\n",
        "dataset['NewYork_State'] = np.where(dataset['State']=='New York', 1, 0)\n",
        "dataset['California_State'] = np.where(dataset['State']=='California', 1, 0)\n",
        "dataset['Florida_State'] = np.where(dataset['State']=='Florida', 1, 0)\n",
        "\n"
      ],
      "execution_count": 16,
      "outputs": []
    },
    {
      "cell_type": "markdown",
      "metadata": {
        "id": "A71ujQyIGSf2"
      },
      "source": [
        "# Drop the original column State from the dataframe\n"
      ]
    },
    {
      "cell_type": "code",
      "metadata": {
        "id": "4F-TgqqPGR5q"
      },
      "source": [
        "dataset.drop(columns=['State'],axis=1,inplace=True)\n"
      ],
      "execution_count": 17,
      "outputs": []
    },
    {
      "cell_type": "code",
      "metadata": {
        "colab": {
          "base_uri": "https://localhost:8080/",
          "height": 202
        },
        "id": "dM88f3OAGY_B",
        "outputId": "75133ccc-9254-43cf-ca2e-0ad5222c02f8"
      },
      "source": [
        "dataset.head()"
      ],
      "execution_count": 18,
      "outputs": [
        {
          "output_type": "execute_result",
          "data": {
            "text/html": [
              "<div>\n",
              "<style scoped>\n",
              "    .dataframe tbody tr th:only-of-type {\n",
              "        vertical-align: middle;\n",
              "    }\n",
              "\n",
              "    .dataframe tbody tr th {\n",
              "        vertical-align: top;\n",
              "    }\n",
              "\n",
              "    .dataframe thead th {\n",
              "        text-align: right;\n",
              "    }\n",
              "</style>\n",
              "<table border=\"1\" class=\"dataframe\">\n",
              "  <thead>\n",
              "    <tr style=\"text-align: right;\">\n",
              "      <th></th>\n",
              "      <th>R&amp;D Spend</th>\n",
              "      <th>Administration</th>\n",
              "      <th>Marketing Spend</th>\n",
              "      <th>Profit</th>\n",
              "      <th>NewYork_State</th>\n",
              "      <th>California_State</th>\n",
              "      <th>Florida_State</th>\n",
              "    </tr>\n",
              "  </thead>\n",
              "  <tbody>\n",
              "    <tr>\n",
              "      <th>0</th>\n",
              "      <td>165349.20</td>\n",
              "      <td>136897.80</td>\n",
              "      <td>471784.10</td>\n",
              "      <td>192261.83</td>\n",
              "      <td>1</td>\n",
              "      <td>0</td>\n",
              "      <td>0</td>\n",
              "    </tr>\n",
              "    <tr>\n",
              "      <th>1</th>\n",
              "      <td>162597.70</td>\n",
              "      <td>151377.59</td>\n",
              "      <td>443898.53</td>\n",
              "      <td>191792.06</td>\n",
              "      <td>0</td>\n",
              "      <td>1</td>\n",
              "      <td>0</td>\n",
              "    </tr>\n",
              "    <tr>\n",
              "      <th>2</th>\n",
              "      <td>153441.51</td>\n",
              "      <td>101145.55</td>\n",
              "      <td>407934.54</td>\n",
              "      <td>191050.39</td>\n",
              "      <td>0</td>\n",
              "      <td>0</td>\n",
              "      <td>1</td>\n",
              "    </tr>\n",
              "    <tr>\n",
              "      <th>3</th>\n",
              "      <td>144372.41</td>\n",
              "      <td>118671.85</td>\n",
              "      <td>383199.62</td>\n",
              "      <td>182901.99</td>\n",
              "      <td>1</td>\n",
              "      <td>0</td>\n",
              "      <td>0</td>\n",
              "    </tr>\n",
              "    <tr>\n",
              "      <th>4</th>\n",
              "      <td>142107.34</td>\n",
              "      <td>91391.77</td>\n",
              "      <td>366168.42</td>\n",
              "      <td>166187.94</td>\n",
              "      <td>0</td>\n",
              "      <td>0</td>\n",
              "      <td>1</td>\n",
              "    </tr>\n",
              "  </tbody>\n",
              "</table>\n",
              "</div>"
            ],
            "text/plain": [
              "   R&D Spend  Administration  ...  California_State  Florida_State\n",
              "0  165349.20       136897.80  ...                 0              0\n",
              "1  162597.70       151377.59  ...                 1              0\n",
              "2  153441.51       101145.55  ...                 0              1\n",
              "3  144372.41       118671.85  ...                 0              0\n",
              "4  142107.34        91391.77  ...                 0              1\n",
              "\n",
              "[5 rows x 7 columns]"
            ]
          },
          "metadata": {},
          "execution_count": 18
        }
      ]
    },
    {
      "cell_type": "code",
      "metadata": {
        "id": "Pkr7gnHWHCk_"
      },
      "source": [
        "dependent_variable = 'Profit'"
      ],
      "execution_count": 22,
      "outputs": []
    },
    {
      "cell_type": "markdown",
      "metadata": {
        "id": "P2hnIuprGhiH"
      },
      "source": [
        "#create a list of independent variables"
      ]
    },
    {
      "cell_type": "code",
      "metadata": {
        "id": "-75hPTgSGb9R"
      },
      "source": [
        "independent_variables = list(set(dataset.columns.tolist()) - {dependent_variable})"
      ],
      "execution_count": 23,
      "outputs": []
    },
    {
      "cell_type": "code",
      "metadata": {
        "colab": {
          "base_uri": "https://localhost:8080/"
        },
        "id": "xSvNs-HaGuwp",
        "outputId": "0525b937-e44d-42e2-d90d-315350c46731"
      },
      "source": [
        "independent_variables"
      ],
      "execution_count": 24,
      "outputs": [
        {
          "output_type": "execute_result",
          "data": {
            "text/plain": [
              "['NewYork_State',\n",
              " 'California_State',\n",
              " 'Administration',\n",
              " 'R&D Spend',\n",
              " 'Florida_State',\n",
              " 'Marketing Spend']"
            ]
          },
          "metadata": {},
          "execution_count": 24
        }
      ]
    },
    {
      "cell_type": "markdown",
      "metadata": {
        "id": "hp5yJPFEHKI1"
      },
      "source": [
        "# create a list of independent variables\n"
      ]
    },
    {
      "cell_type": "code",
      "metadata": {
        "id": "DEVc8s6XHGVZ"
      },
      "source": [
        "independent_variables = list(set(dataset.columns.tolist()) - {dependent_variable})"
      ],
      "execution_count": 25,
      "outputs": []
    },
    {
      "cell_type": "code",
      "metadata": {
        "colab": {
          "base_uri": "https://localhost:8080/"
        },
        "id": "hQqmcHjkHOKp",
        "outputId": "35e8554c-9a77-4ed1-d06c-136b849b7e1e"
      },
      "source": [
        "independent_variables"
      ],
      "execution_count": 26,
      "outputs": [
        {
          "output_type": "execute_result",
          "data": {
            "text/plain": [
              "['NewYork_State',\n",
              " 'California_State',\n",
              " 'Administration',\n",
              " 'R&D Spend',\n",
              " 'Florida_State',\n",
              " 'Marketing Spend']"
            ]
          },
          "metadata": {},
          "execution_count": 26
        }
      ]
    },
    {
      "cell_type": "markdown",
      "metadata": {
        "id": "p0D4ktkFH0Mt"
      },
      "source": [
        "# create the data of independent variables"
      ]
    },
    {
      "cell_type": "code",
      "metadata": {
        "id": "_s2KgK_-HQCR"
      },
      "source": [
        "\n",
        "X = dataset[independent_variables].values\n",
        "\n",
        "\n"
      ],
      "execution_count": 29,
      "outputs": []
    },
    {
      "cell_type": "markdown",
      "metadata": {
        "id": "oYXAQgPkH4sF"
      },
      "source": [
        "# create the dependent variable data"
      ]
    },
    {
      "cell_type": "code",
      "metadata": {
        "id": "BN0UWypQH2Li"
      },
      "source": [
        "y = dataset[dependent_variable].values"
      ],
      "execution_count": 30,
      "outputs": []
    },
    {
      "cell_type": "code",
      "metadata": {
        "colab": {
          "base_uri": "https://localhost:8080/",
          "height": 1000
        },
        "id": "DMCYJISAH8pK",
        "outputId": "6d6fd22a-233e-4b11-a0c2-075030725883"
      },
      "source": [
        "dataset[independent_variables]"
      ],
      "execution_count": 31,
      "outputs": [
        {
          "output_type": "execute_result",
          "data": {
            "text/html": [
              "<div>\n",
              "<style scoped>\n",
              "    .dataframe tbody tr th:only-of-type {\n",
              "        vertical-align: middle;\n",
              "    }\n",
              "\n",
              "    .dataframe tbody tr th {\n",
              "        vertical-align: top;\n",
              "    }\n",
              "\n",
              "    .dataframe thead th {\n",
              "        text-align: right;\n",
              "    }\n",
              "</style>\n",
              "<table border=\"1\" class=\"dataframe\">\n",
              "  <thead>\n",
              "    <tr style=\"text-align: right;\">\n",
              "      <th></th>\n",
              "      <th>NewYork_State</th>\n",
              "      <th>California_State</th>\n",
              "      <th>Administration</th>\n",
              "      <th>R&amp;D Spend</th>\n",
              "      <th>Florida_State</th>\n",
              "      <th>Marketing Spend</th>\n",
              "    </tr>\n",
              "  </thead>\n",
              "  <tbody>\n",
              "    <tr>\n",
              "      <th>0</th>\n",
              "      <td>1</td>\n",
              "      <td>0</td>\n",
              "      <td>136897.80</td>\n",
              "      <td>165349.20</td>\n",
              "      <td>0</td>\n",
              "      <td>471784.10</td>\n",
              "    </tr>\n",
              "    <tr>\n",
              "      <th>1</th>\n",
              "      <td>0</td>\n",
              "      <td>1</td>\n",
              "      <td>151377.59</td>\n",
              "      <td>162597.70</td>\n",
              "      <td>0</td>\n",
              "      <td>443898.53</td>\n",
              "    </tr>\n",
              "    <tr>\n",
              "      <th>2</th>\n",
              "      <td>0</td>\n",
              "      <td>0</td>\n",
              "      <td>101145.55</td>\n",
              "      <td>153441.51</td>\n",
              "      <td>1</td>\n",
              "      <td>407934.54</td>\n",
              "    </tr>\n",
              "    <tr>\n",
              "      <th>3</th>\n",
              "      <td>1</td>\n",
              "      <td>0</td>\n",
              "      <td>118671.85</td>\n",
              "      <td>144372.41</td>\n",
              "      <td>0</td>\n",
              "      <td>383199.62</td>\n",
              "    </tr>\n",
              "    <tr>\n",
              "      <th>4</th>\n",
              "      <td>0</td>\n",
              "      <td>0</td>\n",
              "      <td>91391.77</td>\n",
              "      <td>142107.34</td>\n",
              "      <td>1</td>\n",
              "      <td>366168.42</td>\n",
              "    </tr>\n",
              "    <tr>\n",
              "      <th>5</th>\n",
              "      <td>1</td>\n",
              "      <td>0</td>\n",
              "      <td>99814.71</td>\n",
              "      <td>131876.90</td>\n",
              "      <td>0</td>\n",
              "      <td>362861.36</td>\n",
              "    </tr>\n",
              "    <tr>\n",
              "      <th>6</th>\n",
              "      <td>0</td>\n",
              "      <td>1</td>\n",
              "      <td>147198.87</td>\n",
              "      <td>134615.46</td>\n",
              "      <td>0</td>\n",
              "      <td>127716.82</td>\n",
              "    </tr>\n",
              "    <tr>\n",
              "      <th>7</th>\n",
              "      <td>0</td>\n",
              "      <td>0</td>\n",
              "      <td>145530.06</td>\n",
              "      <td>130298.13</td>\n",
              "      <td>1</td>\n",
              "      <td>323876.68</td>\n",
              "    </tr>\n",
              "    <tr>\n",
              "      <th>8</th>\n",
              "      <td>1</td>\n",
              "      <td>0</td>\n",
              "      <td>148718.95</td>\n",
              "      <td>120542.52</td>\n",
              "      <td>0</td>\n",
              "      <td>311613.29</td>\n",
              "    </tr>\n",
              "    <tr>\n",
              "      <th>9</th>\n",
              "      <td>0</td>\n",
              "      <td>1</td>\n",
              "      <td>108679.17</td>\n",
              "      <td>123334.88</td>\n",
              "      <td>0</td>\n",
              "      <td>304981.62</td>\n",
              "    </tr>\n",
              "    <tr>\n",
              "      <th>10</th>\n",
              "      <td>0</td>\n",
              "      <td>0</td>\n",
              "      <td>110594.11</td>\n",
              "      <td>101913.08</td>\n",
              "      <td>1</td>\n",
              "      <td>229160.95</td>\n",
              "    </tr>\n",
              "    <tr>\n",
              "      <th>11</th>\n",
              "      <td>0</td>\n",
              "      <td>1</td>\n",
              "      <td>91790.61</td>\n",
              "      <td>100671.96</td>\n",
              "      <td>0</td>\n",
              "      <td>249744.55</td>\n",
              "    </tr>\n",
              "    <tr>\n",
              "      <th>12</th>\n",
              "      <td>0</td>\n",
              "      <td>0</td>\n",
              "      <td>127320.38</td>\n",
              "      <td>93863.75</td>\n",
              "      <td>1</td>\n",
              "      <td>249839.44</td>\n",
              "    </tr>\n",
              "    <tr>\n",
              "      <th>13</th>\n",
              "      <td>0</td>\n",
              "      <td>1</td>\n",
              "      <td>135495.07</td>\n",
              "      <td>91992.39</td>\n",
              "      <td>0</td>\n",
              "      <td>252664.93</td>\n",
              "    </tr>\n",
              "    <tr>\n",
              "      <th>14</th>\n",
              "      <td>0</td>\n",
              "      <td>0</td>\n",
              "      <td>156547.42</td>\n",
              "      <td>119943.24</td>\n",
              "      <td>1</td>\n",
              "      <td>256512.92</td>\n",
              "    </tr>\n",
              "    <tr>\n",
              "      <th>15</th>\n",
              "      <td>1</td>\n",
              "      <td>0</td>\n",
              "      <td>122616.84</td>\n",
              "      <td>114523.61</td>\n",
              "      <td>0</td>\n",
              "      <td>261776.23</td>\n",
              "    </tr>\n",
              "    <tr>\n",
              "      <th>16</th>\n",
              "      <td>0</td>\n",
              "      <td>1</td>\n",
              "      <td>121597.55</td>\n",
              "      <td>78013.11</td>\n",
              "      <td>0</td>\n",
              "      <td>264346.06</td>\n",
              "    </tr>\n",
              "    <tr>\n",
              "      <th>17</th>\n",
              "      <td>1</td>\n",
              "      <td>0</td>\n",
              "      <td>145077.58</td>\n",
              "      <td>94657.16</td>\n",
              "      <td>0</td>\n",
              "      <td>282574.31</td>\n",
              "    </tr>\n",
              "    <tr>\n",
              "      <th>18</th>\n",
              "      <td>0</td>\n",
              "      <td>0</td>\n",
              "      <td>114175.79</td>\n",
              "      <td>91749.16</td>\n",
              "      <td>1</td>\n",
              "      <td>294919.57</td>\n",
              "    </tr>\n",
              "    <tr>\n",
              "      <th>19</th>\n",
              "      <td>1</td>\n",
              "      <td>0</td>\n",
              "      <td>153514.11</td>\n",
              "      <td>86419.70</td>\n",
              "      <td>0</td>\n",
              "      <td>0.00</td>\n",
              "    </tr>\n",
              "    <tr>\n",
              "      <th>20</th>\n",
              "      <td>0</td>\n",
              "      <td>1</td>\n",
              "      <td>113867.30</td>\n",
              "      <td>76253.86</td>\n",
              "      <td>0</td>\n",
              "      <td>298664.47</td>\n",
              "    </tr>\n",
              "    <tr>\n",
              "      <th>21</th>\n",
              "      <td>1</td>\n",
              "      <td>0</td>\n",
              "      <td>153773.43</td>\n",
              "      <td>78389.47</td>\n",
              "      <td>0</td>\n",
              "      <td>299737.29</td>\n",
              "    </tr>\n",
              "    <tr>\n",
              "      <th>22</th>\n",
              "      <td>0</td>\n",
              "      <td>0</td>\n",
              "      <td>122782.75</td>\n",
              "      <td>73994.56</td>\n",
              "      <td>1</td>\n",
              "      <td>303319.26</td>\n",
              "    </tr>\n",
              "    <tr>\n",
              "      <th>23</th>\n",
              "      <td>0</td>\n",
              "      <td>0</td>\n",
              "      <td>105751.03</td>\n",
              "      <td>67532.53</td>\n",
              "      <td>1</td>\n",
              "      <td>304768.73</td>\n",
              "    </tr>\n",
              "    <tr>\n",
              "      <th>24</th>\n",
              "      <td>1</td>\n",
              "      <td>0</td>\n",
              "      <td>99281.34</td>\n",
              "      <td>77044.01</td>\n",
              "      <td>0</td>\n",
              "      <td>140574.81</td>\n",
              "    </tr>\n",
              "    <tr>\n",
              "      <th>25</th>\n",
              "      <td>0</td>\n",
              "      <td>1</td>\n",
              "      <td>139553.16</td>\n",
              "      <td>64664.71</td>\n",
              "      <td>0</td>\n",
              "      <td>137962.62</td>\n",
              "    </tr>\n",
              "    <tr>\n",
              "      <th>26</th>\n",
              "      <td>0</td>\n",
              "      <td>0</td>\n",
              "      <td>144135.98</td>\n",
              "      <td>75328.87</td>\n",
              "      <td>1</td>\n",
              "      <td>134050.07</td>\n",
              "    </tr>\n",
              "    <tr>\n",
              "      <th>27</th>\n",
              "      <td>1</td>\n",
              "      <td>0</td>\n",
              "      <td>127864.55</td>\n",
              "      <td>72107.60</td>\n",
              "      <td>0</td>\n",
              "      <td>353183.81</td>\n",
              "    </tr>\n",
              "    <tr>\n",
              "      <th>28</th>\n",
              "      <td>0</td>\n",
              "      <td>0</td>\n",
              "      <td>182645.56</td>\n",
              "      <td>66051.52</td>\n",
              "      <td>1</td>\n",
              "      <td>118148.20</td>\n",
              "    </tr>\n",
              "    <tr>\n",
              "      <th>29</th>\n",
              "      <td>1</td>\n",
              "      <td>0</td>\n",
              "      <td>153032.06</td>\n",
              "      <td>65605.48</td>\n",
              "      <td>0</td>\n",
              "      <td>107138.38</td>\n",
              "    </tr>\n",
              "    <tr>\n",
              "      <th>30</th>\n",
              "      <td>0</td>\n",
              "      <td>0</td>\n",
              "      <td>115641.28</td>\n",
              "      <td>61994.48</td>\n",
              "      <td>1</td>\n",
              "      <td>91131.24</td>\n",
              "    </tr>\n",
              "    <tr>\n",
              "      <th>31</th>\n",
              "      <td>1</td>\n",
              "      <td>0</td>\n",
              "      <td>152701.92</td>\n",
              "      <td>61136.38</td>\n",
              "      <td>0</td>\n",
              "      <td>88218.23</td>\n",
              "    </tr>\n",
              "    <tr>\n",
              "      <th>32</th>\n",
              "      <td>0</td>\n",
              "      <td>1</td>\n",
              "      <td>129219.61</td>\n",
              "      <td>63408.86</td>\n",
              "      <td>0</td>\n",
              "      <td>46085.25</td>\n",
              "    </tr>\n",
              "    <tr>\n",
              "      <th>33</th>\n",
              "      <td>0</td>\n",
              "      <td>0</td>\n",
              "      <td>103057.49</td>\n",
              "      <td>55493.95</td>\n",
              "      <td>1</td>\n",
              "      <td>214634.81</td>\n",
              "    </tr>\n",
              "    <tr>\n",
              "      <th>34</th>\n",
              "      <td>0</td>\n",
              "      <td>1</td>\n",
              "      <td>157693.92</td>\n",
              "      <td>46426.07</td>\n",
              "      <td>0</td>\n",
              "      <td>210797.67</td>\n",
              "    </tr>\n",
              "    <tr>\n",
              "      <th>35</th>\n",
              "      <td>1</td>\n",
              "      <td>0</td>\n",
              "      <td>85047.44</td>\n",
              "      <td>46014.02</td>\n",
              "      <td>0</td>\n",
              "      <td>205517.64</td>\n",
              "    </tr>\n",
              "    <tr>\n",
              "      <th>36</th>\n",
              "      <td>0</td>\n",
              "      <td>0</td>\n",
              "      <td>127056.21</td>\n",
              "      <td>28663.76</td>\n",
              "      <td>1</td>\n",
              "      <td>201126.82</td>\n",
              "    </tr>\n",
              "    <tr>\n",
              "      <th>37</th>\n",
              "      <td>0</td>\n",
              "      <td>1</td>\n",
              "      <td>51283.14</td>\n",
              "      <td>44069.95</td>\n",
              "      <td>0</td>\n",
              "      <td>197029.42</td>\n",
              "    </tr>\n",
              "    <tr>\n",
              "      <th>38</th>\n",
              "      <td>1</td>\n",
              "      <td>0</td>\n",
              "      <td>65947.93</td>\n",
              "      <td>20229.59</td>\n",
              "      <td>0</td>\n",
              "      <td>185265.10</td>\n",
              "    </tr>\n",
              "    <tr>\n",
              "      <th>39</th>\n",
              "      <td>0</td>\n",
              "      <td>1</td>\n",
              "      <td>82982.09</td>\n",
              "      <td>38558.51</td>\n",
              "      <td>0</td>\n",
              "      <td>174999.30</td>\n",
              "    </tr>\n",
              "    <tr>\n",
              "      <th>40</th>\n",
              "      <td>0</td>\n",
              "      <td>1</td>\n",
              "      <td>118546.05</td>\n",
              "      <td>28754.33</td>\n",
              "      <td>0</td>\n",
              "      <td>172795.67</td>\n",
              "    </tr>\n",
              "    <tr>\n",
              "      <th>41</th>\n",
              "      <td>0</td>\n",
              "      <td>0</td>\n",
              "      <td>84710.77</td>\n",
              "      <td>27892.92</td>\n",
              "      <td>1</td>\n",
              "      <td>164470.71</td>\n",
              "    </tr>\n",
              "    <tr>\n",
              "      <th>42</th>\n",
              "      <td>0</td>\n",
              "      <td>1</td>\n",
              "      <td>96189.63</td>\n",
              "      <td>23640.93</td>\n",
              "      <td>0</td>\n",
              "      <td>148001.11</td>\n",
              "    </tr>\n",
              "    <tr>\n",
              "      <th>43</th>\n",
              "      <td>1</td>\n",
              "      <td>0</td>\n",
              "      <td>127382.30</td>\n",
              "      <td>15505.73</td>\n",
              "      <td>0</td>\n",
              "      <td>35534.17</td>\n",
              "    </tr>\n",
              "    <tr>\n",
              "      <th>44</th>\n",
              "      <td>0</td>\n",
              "      <td>1</td>\n",
              "      <td>154806.14</td>\n",
              "      <td>22177.74</td>\n",
              "      <td>0</td>\n",
              "      <td>28334.72</td>\n",
              "    </tr>\n",
              "    <tr>\n",
              "      <th>45</th>\n",
              "      <td>1</td>\n",
              "      <td>0</td>\n",
              "      <td>124153.04</td>\n",
              "      <td>1000.23</td>\n",
              "      <td>0</td>\n",
              "      <td>1903.93</td>\n",
              "    </tr>\n",
              "    <tr>\n",
              "      <th>46</th>\n",
              "      <td>0</td>\n",
              "      <td>0</td>\n",
              "      <td>115816.21</td>\n",
              "      <td>1315.46</td>\n",
              "      <td>1</td>\n",
              "      <td>297114.46</td>\n",
              "    </tr>\n",
              "    <tr>\n",
              "      <th>47</th>\n",
              "      <td>0</td>\n",
              "      <td>1</td>\n",
              "      <td>135426.92</td>\n",
              "      <td>0.00</td>\n",
              "      <td>0</td>\n",
              "      <td>0.00</td>\n",
              "    </tr>\n",
              "    <tr>\n",
              "      <th>48</th>\n",
              "      <td>1</td>\n",
              "      <td>0</td>\n",
              "      <td>51743.15</td>\n",
              "      <td>542.05</td>\n",
              "      <td>0</td>\n",
              "      <td>0.00</td>\n",
              "    </tr>\n",
              "    <tr>\n",
              "      <th>49</th>\n",
              "      <td>0</td>\n",
              "      <td>1</td>\n",
              "      <td>116983.80</td>\n",
              "      <td>0.00</td>\n",
              "      <td>0</td>\n",
              "      <td>45173.06</td>\n",
              "    </tr>\n",
              "  </tbody>\n",
              "</table>\n",
              "</div>"
            ],
            "text/plain": [
              "    NewYork_State  California_State  ...  Florida_State  Marketing Spend\n",
              "0               1                 0  ...              0        471784.10\n",
              "1               0                 1  ...              0        443898.53\n",
              "2               0                 0  ...              1        407934.54\n",
              "3               1                 0  ...              0        383199.62\n",
              "4               0                 0  ...              1        366168.42\n",
              "5               1                 0  ...              0        362861.36\n",
              "6               0                 1  ...              0        127716.82\n",
              "7               0                 0  ...              1        323876.68\n",
              "8               1                 0  ...              0        311613.29\n",
              "9               0                 1  ...              0        304981.62\n",
              "10              0                 0  ...              1        229160.95\n",
              "11              0                 1  ...              0        249744.55\n",
              "12              0                 0  ...              1        249839.44\n",
              "13              0                 1  ...              0        252664.93\n",
              "14              0                 0  ...              1        256512.92\n",
              "15              1                 0  ...              0        261776.23\n",
              "16              0                 1  ...              0        264346.06\n",
              "17              1                 0  ...              0        282574.31\n",
              "18              0                 0  ...              1        294919.57\n",
              "19              1                 0  ...              0             0.00\n",
              "20              0                 1  ...              0        298664.47\n",
              "21              1                 0  ...              0        299737.29\n",
              "22              0                 0  ...              1        303319.26\n",
              "23              0                 0  ...              1        304768.73\n",
              "24              1                 0  ...              0        140574.81\n",
              "25              0                 1  ...              0        137962.62\n",
              "26              0                 0  ...              1        134050.07\n",
              "27              1                 0  ...              0        353183.81\n",
              "28              0                 0  ...              1        118148.20\n",
              "29              1                 0  ...              0        107138.38\n",
              "30              0                 0  ...              1         91131.24\n",
              "31              1                 0  ...              0         88218.23\n",
              "32              0                 1  ...              0         46085.25\n",
              "33              0                 0  ...              1        214634.81\n",
              "34              0                 1  ...              0        210797.67\n",
              "35              1                 0  ...              0        205517.64\n",
              "36              0                 0  ...              1        201126.82\n",
              "37              0                 1  ...              0        197029.42\n",
              "38              1                 0  ...              0        185265.10\n",
              "39              0                 1  ...              0        174999.30\n",
              "40              0                 1  ...              0        172795.67\n",
              "41              0                 0  ...              1        164470.71\n",
              "42              0                 1  ...              0        148001.11\n",
              "43              1                 0  ...              0         35534.17\n",
              "44              0                 1  ...              0         28334.72\n",
              "45              1                 0  ...              0          1903.93\n",
              "46              0                 0  ...              1        297114.46\n",
              "47              0                 1  ...              0             0.00\n",
              "48              1                 0  ...              0             0.00\n",
              "49              0                 1  ...              0         45173.06\n",
              "\n",
              "[50 rows x 6 columns]"
            ]
          },
          "metadata": {},
          "execution_count": 31
        }
      ]
    },
    {
      "cell_type": "markdown",
      "metadata": {
        "id": "og0SoBVlIFd6"
      },
      "source": [
        "# splitting the dataset into the Training set and Test set"
      ]
    },
    {
      "cell_type": "code",
      "metadata": {
        "id": "tlqxMw16IA7x"
      },
      "source": [
        "\n",
        "X_train, X_test, y_train, y_test = train_test_split(X, y, test_size = 0.2, random_state = 0)"
      ],
      "execution_count": 32,
      "outputs": []
    },
    {
      "cell_type": "code",
      "metadata": {
        "colab": {
          "base_uri": "https://localhost:8080/"
        },
        "id": "l1ZYEuESIIBJ",
        "outputId": "0717e7ae-79b8-417f-b28a-79e0bf722198"
      },
      "source": [
        "X_train[0:10]"
      ],
      "execution_count": 33,
      "outputs": [
        {
          "output_type": "execute_result",
          "data": {
            "text/plain": [
              "array([[0.0000000e+00, 0.0000000e+00, 1.0305749e+05, 5.5493950e+04,\n",
              "        1.0000000e+00, 2.1463481e+05],\n",
              "       [1.0000000e+00, 0.0000000e+00, 8.5047440e+04, 4.6014020e+04,\n",
              "        0.0000000e+00, 2.0551764e+05],\n",
              "       [0.0000000e+00, 0.0000000e+00, 1.4413598e+05, 7.5328870e+04,\n",
              "        1.0000000e+00, 1.3405007e+05],\n",
              "       [0.0000000e+00, 1.0000000e+00, 1.5769392e+05, 4.6426070e+04,\n",
              "        0.0000000e+00, 2.1079767e+05],\n",
              "       [0.0000000e+00, 0.0000000e+00, 1.1417579e+05, 9.1749160e+04,\n",
              "        1.0000000e+00, 2.9491957e+05],\n",
              "       [0.0000000e+00, 0.0000000e+00, 1.4553006e+05, 1.3029813e+05,\n",
              "        1.0000000e+00, 3.2387668e+05],\n",
              "       [0.0000000e+00, 0.0000000e+00, 1.5654742e+05, 1.1994324e+05,\n",
              "        1.0000000e+00, 2.5651292e+05],\n",
              "       [1.0000000e+00, 0.0000000e+00, 1.2415304e+05, 1.0002300e+03,\n",
              "        0.0000000e+00, 1.9039300e+03],\n",
              "       [1.0000000e+00, 0.0000000e+00, 5.1743150e+04, 5.4205000e+02,\n",
              "        0.0000000e+00, 0.0000000e+00],\n",
              "       [1.0000000e+00, 0.0000000e+00, 1.5303206e+05, 6.5605480e+04,\n",
              "        0.0000000e+00, 1.0713838e+05]])"
            ]
          },
          "metadata": {},
          "execution_count": 33
        }
      ]
    },
    {
      "cell_type": "markdown",
      "metadata": {
        "id": "9Thlcb6_IP1k"
      },
      "source": [
        "# Transforming data"
      ]
    },
    {
      "cell_type": "code",
      "metadata": {
        "id": "uq2VRDy-ILfI"
      },
      "source": [
        "scaler = MinMaxScaler()\n",
        "X_train = scaler.fit_transform(X_train)\n",
        "X_test = scaler.transform(X_test)"
      ],
      "execution_count": 34,
      "outputs": []
    },
    {
      "cell_type": "code",
      "metadata": {
        "colab": {
          "base_uri": "https://localhost:8080/"
        },
        "id": "enEXQmwPIWZ6",
        "outputId": "080ee718-bb4c-43e0-9447-bc55f3773038"
      },
      "source": [
        "X_train[0:10]"
      ],
      "execution_count": 35,
      "outputs": [
        {
          "output_type": "execute_result",
          "data": {
            "text/plain": [
              "array([[0.        , 0.        , 0.48655174, 0.33561668, 1.        ,\n",
              "        0.45494286],\n",
              "       [1.        , 0.        , 0.3173015 , 0.2782839 , 0.        ,\n",
              "        0.43561799],\n",
              "       [0.        , 0.        , 0.87258866, 0.45557444, 1.        ,\n",
              "        0.28413435],\n",
              "       [0.        , 1.        , 1.        , 0.2807759 , 0.        ,\n",
              "        0.44680961],\n",
              "       [0.        , 0.        , 0.59103645, 0.55488118, 1.        ,\n",
              "        0.62511553],\n",
              "       [0.        , 0.        , 0.88568959, 0.7880179 , 1.        ,\n",
              "        0.68649342],\n",
              "       [0.        , 0.        , 0.98922572, 0.72539353, 1.        ,\n",
              "        0.54370828],\n",
              "       [1.        , 0.        , 0.6847981 , 0.0060492 , 0.        ,\n",
              "        0.0040356 ],\n",
              "       [1.        , 0.        , 0.00432296, 0.00327821, 0.        ,\n",
              "        0.        ],\n",
              "       [1.        , 0.        , 0.95618996, 0.39676926, 0.        ,\n",
              "        0.22709197]])"
            ]
          },
          "metadata": {},
          "execution_count": 35
        }
      ]
    },
    {
      "cell_type": "markdown",
      "metadata": {
        "id": "ldstswZ8Ie0E"
      },
      "source": [
        "# fitting Multiple Linear Regression to the Training set"
      ]
    },
    {
      "cell_type": "code",
      "metadata": {
        "colab": {
          "base_uri": "https://localhost:8080/"
        },
        "id": "m4iOhe2PIZTD",
        "outputId": "26e2bd25-9727-470e-eab9-7ce0775cec17"
      },
      "source": [
        "regressor = LinearRegression()\n",
        "regressor.fit(X_train, y_train)"
      ],
      "execution_count": 36,
      "outputs": [
        {
          "output_type": "execute_result",
          "data": {
            "text/plain": [
              "LinearRegression(copy_X=True, fit_intercept=True, n_jobs=None, normalize=False)"
            ]
          },
          "metadata": {},
          "execution_count": 36
        }
      ]
    },
    {
      "cell_type": "code",
      "metadata": {
        "colab": {
          "base_uri": "https://localhost:8080/"
        },
        "id": "z_BDH073Ighp",
        "outputId": "96a76dd3-4859-4cff-dc9e-cad8c5049315"
      },
      "source": [
        "regressor.intercept_"
      ],
      "execution_count": 37,
      "outputs": [
        {
          "output_type": "execute_result",
          "data": {
            "text/plain": [
              "44153.95466784857"
            ]
          },
          "metadata": {},
          "execution_count": 37
        }
      ]
    },
    {
      "cell_type": "code",
      "metadata": {
        "colab": {
          "base_uri": "https://localhost:8080/"
        },
        "id": "VZpfUgXSIjSi",
        "outputId": "1840c819-798f-4276-8920-518c48488ed6"
      },
      "source": [
        "regressor.coef_"
      ],
      "execution_count": 38,
      "outputs": [
        {
          "output_type": "execute_result",
          "data": {
            "text/plain": [
              "array([ 7.86007422e+02,  8.66383692e+01,  3.49927567e+03,  1.27892182e+05,\n",
              "       -8.72645791e+02,  1.72720281e+04])"
            ]
          },
          "metadata": {},
          "execution_count": 38
        }
      ]
    },
    {
      "cell_type": "code",
      "metadata": {
        "id": "4q2QtED1ImBB"
      },
      "source": [
        "y_pred_train = regressor.predict(X_train)"
      ],
      "execution_count": 39,
      "outputs": []
    },
    {
      "cell_type": "code",
      "metadata": {
        "colab": {
          "base_uri": "https://localhost:8080/"
        },
        "id": "Yqj1mc8EIoeJ",
        "outputId": "c6188f5e-c2ce-4c34-f5d7-e637d43f7395"
      },
      "source": [
        "y_train"
      ],
      "execution_count": 40,
      "outputs": [
        {
          "output_type": "execute_result",
          "data": {
            "text/plain": [
              "array([ 96778.92,  96479.51, 105733.54,  96712.8 , 124266.9 , 155752.6 ,\n",
              "       132602.65,  64926.08,  35673.41, 101004.64, 129917.04,  99937.59,\n",
              "        97427.84, 126992.93,  71498.49, 118474.03,  69758.98, 152211.77,\n",
              "       134307.35, 107404.34, 156991.12, 125370.37,  78239.91,  14681.4 ,\n",
              "       191792.06, 141585.52,  89949.14, 108552.04, 156122.51, 108733.99,\n",
              "        90708.19, 111313.02, 122776.86, 149759.96,  81005.76,  49490.75,\n",
              "       182901.99, 192261.83,  42559.73,  65200.33])"
            ]
          },
          "metadata": {},
          "execution_count": 40
        }
      ]
    },
    {
      "cell_type": "markdown",
      "metadata": {
        "id": "V3clyf7dKncZ"
      },
      "source": [
        "#predicting the Test set results"
      ]
    },
    {
      "cell_type": "code",
      "metadata": {
        "id": "3Tk1mmDpIqjp"
      },
      "source": [
        "y_pred = regressor.predict(X_test)"
      ],
      "execution_count": 43,
      "outputs": []
    },
    {
      "cell_type": "markdown",
      "metadata": {
        "id": "LUa7zuSdLJrT"
      },
      "source": [
        "#Predicted profit on the test data"
      ]
    },
    {
      "cell_type": "code",
      "metadata": {
        "colab": {
          "base_uri": "https://localhost:8080/"
        },
        "id": "hIfxDEwwKlnq",
        "outputId": "66ebf448-5ff3-46bb-9db1-9b1bbdd8e5db"
      },
      "source": [
        "y_pred"
      ],
      "execution_count": 44,
      "outputs": [
        {
          "output_type": "execute_result",
          "data": {
            "text/plain": [
              "array([103015.20159796, 132582.27760816, 132447.73845174,  71976.09851258,\n",
              "       178537.48221055, 116161.24230165,  67851.69209676,  98791.73374687,\n",
              "       113969.43533012, 167921.0656955 ])"
            ]
          },
          "metadata": {},
          "execution_count": 44
        }
      ]
    },
    {
      "cell_type": "markdown",
      "metadata": {
        "id": "A8B1o0v_LS98"
      },
      "source": [
        "# actual profits on test data\n"
      ]
    },
    {
      "cell_type": "code",
      "metadata": {
        "colab": {
          "base_uri": "https://localhost:8080/"
        },
        "id": "CxUAoEl9LSnt",
        "outputId": "ed861127-42ab-40c3-f12a-d5bd74605cb3"
      },
      "source": [
        "y_test"
      ],
      "execution_count": 45,
      "outputs": [
        {
          "output_type": "execute_result",
          "data": {
            "text/plain": [
              "array([103282.38, 144259.4 , 146121.95,  77798.83, 191050.39, 105008.31,\n",
              "        81229.06,  97483.56, 110352.25, 166187.94])"
            ]
          },
          "metadata": {},
          "execution_count": 45
        }
      ]
    },
    {
      "cell_type": "code",
      "metadata": {
        "colab": {
          "base_uri": "https://localhost:8080/"
        },
        "id": "5BCB5pcPLOBy",
        "outputId": "fd058af3-bd10-4243-851e-78c63d382738"
      },
      "source": [
        "mean_squared_error(y_test, y_pred)"
      ],
      "execution_count": 46,
      "outputs": [
        {
          "output_type": "execute_result",
          "data": {
            "text/plain": [
              "83502864.03257735"
            ]
          },
          "metadata": {},
          "execution_count": 46
        }
      ]
    },
    {
      "cell_type": "markdown",
      "metadata": {
        "id": "v4leAJtCLjC_"
      },
      "source": [
        "# train performance"
      ]
    },
    {
      "cell_type": "code",
      "metadata": {
        "colab": {
          "base_uri": "https://localhost:8080/"
        },
        "id": "qBvFwkpoLeE6",
        "outputId": "e31348eb-ed4f-47c4-c989-9ea112ec764b"
      },
      "source": [
        "math.sqrt(mean_squared_error(y_train, y_pred_train))"
      ],
      "execution_count": 47,
      "outputs": [
        {
          "output_type": "execute_result",
          "data": {
            "text/plain": [
              "9031.666612578969"
            ]
          },
          "metadata": {},
          "execution_count": 47
        }
      ]
    },
    {
      "cell_type": "markdown",
      "metadata": {
        "id": "qwz3T9NILw7V"
      },
      "source": [
        "# test performance"
      ]
    },
    {
      "cell_type": "code",
      "metadata": {
        "colab": {
          "base_uri": "https://localhost:8080/"
        },
        "id": "Ghb52CcWLo8D",
        "outputId": "ea1c93aa-9283-4155-dd6c-62213e6c2706"
      },
      "source": [
        "math.sqrt(mean_squared_error(y_test, y_pred))"
      ],
      "execution_count": 48,
      "outputs": [
        {
          "output_type": "execute_result",
          "data": {
            "text/plain": [
              "9137.990152794944"
            ]
          },
          "metadata": {},
          "execution_count": 48
        }
      ]
    },
    {
      "cell_type": "code",
      "metadata": {
        "colab": {
          "base_uri": "https://localhost:8080/"
        },
        "id": "gRK8EJtyLzmC",
        "outputId": "199a0334-1cc5-478a-afe9-fa89e5220e29"
      },
      "source": [
        "r2_score(y_train, y_pred_train)"
      ],
      "execution_count": 49,
      "outputs": [
        {
          "output_type": "execute_result",
          "data": {
            "text/plain": [
              "0.9501847627493607"
            ]
          },
          "metadata": {},
          "execution_count": 49
        }
      ]
    },
    {
      "cell_type": "code",
      "metadata": {
        "colab": {
          "base_uri": "https://localhost:8080/"
        },
        "id": "YD_rFNUbL2KS",
        "outputId": "82296f42-dee9-45bf-9960-418a08d64e96"
      },
      "source": [
        "r2_score(y_test, y_pred)"
      ],
      "execution_count": 50,
      "outputs": [
        {
          "output_type": "execute_result",
          "data": {
            "text/plain": [
              "0.9347068473282425"
            ]
          },
          "metadata": {},
          "execution_count": 50
        }
      ]
    },
    {
      "cell_type": "code",
      "metadata": {
        "id": "7Oob5N1nL4oh"
      },
      "source": [
        ""
      ],
      "execution_count": 50,
      "outputs": []
    }
  ]
}